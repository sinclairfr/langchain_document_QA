{
 "cells": [
  {
   "cell_type": "code",
   "execution_count": 32,
   "id": "86d8eaba-9fc0-45a8-b63b-a6fd72e005bb",
   "metadata": {
    "tags": []
   },
   "outputs": [],
   "source": [
    "import os\n",
    "import sys\n",
    "import constants\n",
    "import langchain\n",
    "import requests\n",
    "import getpass\n",
    "\n",
    "os.environ['OPENAI_API_KEY'] = constants.API_KEY\n",
    "\n",
    "from langchain.document_loaders import PyPDFLoader\n",
    "from langchain.indexes import VectorstoreIndexCreator\n",
    "from langchain.llms import OpenAI\n",
    "from langchain.chat_models import ChatOpenAI\n",
    "\n",
    "loader = PyPDFLoader(\"https://www.domainelibre.com/wp-content/uploads/2023/04/CV-Mehdi-Fekih-.pdf\")\n",
    "index = VectorstoreIndexCreator().from_loaders([loader])\n",
    "data = loader.load()"
   ]
  },
  {
   "cell_type": "code",
   "execution_count": 33,
   "id": "dd8e9eb7-e2b4-4ee9-8046-60ccc71707e2",
   "metadata": {
    "tags": []
   },
   "outputs": [
    {
     "data": {
      "text/plain": [
       "'Je suis désolé, mais je ne dispose pas de cette information dans le texte fourni.'"
      ]
     },
     "execution_count": 33,
     "metadata": {},
     "output_type": "execute_result"
    }
   ],
   "source": [
    "index.query(\"quel est le nom de ce candidat?\", llm=ChatOpenAI())"
   ]
  }
 ],
 "metadata": {
  "kernelspec": {
   "display_name": "autoGPT",
   "language": "python",
   "name": "autogpt"
  },
  "language_info": {
   "codemirror_mode": {
    "name": "ipython",
    "version": 3
   },
   "file_extension": ".py",
   "mimetype": "text/x-python",
   "name": "python",
   "nbconvert_exporter": "python",
   "pygments_lexer": "ipython3",
   "version": "3.11.4"
  }
 },
 "nbformat": 4,
 "nbformat_minor": 5
}
